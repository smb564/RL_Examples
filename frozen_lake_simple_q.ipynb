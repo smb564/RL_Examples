{
 "cells": [
  {
   "cell_type": "code",
   "execution_count": 77,
   "metadata": {
    "collapsed": true
   },
   "outputs": [],
   "source": [
    "import gym\n",
    "import numpy as np"
   ]
  },
  {
   "cell_type": "code",
   "execution_count": 78,
   "metadata": {
    "collapsed": true
   },
   "outputs": [],
   "source": [
    "env = gym.make('FrozenLake-v0')"
   ]
  },
  {
   "cell_type": "code",
   "execution_count": 79,
   "metadata": {},
   "outputs": [
    {
     "name": "stdout",
     "output_type": "stream",
     "text": [
      "Training Q Values completed!\n"
     ]
    }
   ],
   "source": [
    "# make a table for storing q values\n",
    "# Q(s,a)\n",
    "Q = np.zeros([env.observation_space.n, env.action_space.n])\n",
    "\n",
    "# learning rate of the paramters\n",
    "lr = 0.8\n",
    "# discounting factor\n",
    "y = 0.95\n",
    "\n",
    "# training episode count\n",
    "num_episodes = 2000\n",
    "\n",
    "# store total rewards of each episode\n",
    "rewards = []\n",
    "\n",
    "for i in xrange(num_episodes):\n",
    "    # reset env and get the init state\n",
    "    s = env.reset()\n",
    "    tot_reward = 0\n",
    "    \n",
    "    # should opt for the learnt params in later iterations\n",
    "    for j in xrange(100):\n",
    "        # try 100 actions per each episode\n",
    "        \n",
    "        # now select the best action. (Add some noise to avoid sub optimality)\n",
    "        # in first episodes, actions are taken more randomly (Because Q values are not good enough)\n",
    "        # in later episodes, actions are taken more based on the q values --> less noise is added\n",
    "        # next action - a\n",
    "        a = np.argmax(Q[s,:] + np.random.rand(1, env.action_space.n) * (1.0 / (1 + i)))\n",
    "        \n",
    "        # perform this action on the env\n",
    "        s_new, reward, goal, _ = env.step(a)\n",
    "        \n",
    "        # update Q values using q learning algo\n",
    "        Q[s][a] = (1 - lr) * Q[s][a] + lr * (reward + np.max(Q[s_new,:]))\n",
    "        \n",
    "        tot_reward += reward\n",
    "        \n",
    "        # if we reach the goal state, then do not continue\n",
    "        if goal:\n",
    "            break\n",
    "        \n",
    "        # continue in the next state\n",
    "        s = s_new\n",
    "    \n",
    "    rewards.append(tot_reward)\n",
    "    \n",
    "print \"Training Q Values completed!\""
   ]
  },
  {
   "cell_type": "code",
   "execution_count": 91,
   "metadata": {},
   "outputs": [
    {
     "name": "stdout",
     "output_type": "stream",
     "text": [
      "Winning Percentage :  60.0\n"
     ]
    }
   ],
   "source": [
    "# now test the model with obtained Q value\n",
    "test_count = 100\n",
    "tot_reward = 0\n",
    "for i in xrange(test_count):\n",
    "    # get the init state\n",
    "    s = env.reset()\n",
    "    \n",
    "    # perform 100 actions\n",
    "    for j in xrange(100):\n",
    "        s, r, goal, _ = env.step(np.argmax(Q[s,:]))\n",
    "        \n",
    "        tot_reward += r\n",
    "        \n",
    "        if goal:\n",
    "            break\n",
    "\n",
    "print \"Winning Percentage : \", str(100.0 * tot_reward / test_count)\n",
    "    "
   ]
  }
 ],
 "metadata": {
  "kernelspec": {
   "display_name": "Python 2",
   "language": "python",
   "name": "python2"
  },
  "language_info": {
   "codemirror_mode": {
    "name": "ipython",
    "version": 2
   },
   "file_extension": ".py",
   "mimetype": "text/x-python",
   "name": "python",
   "nbconvert_exporter": "python",
   "pygments_lexer": "ipython2",
   "version": "2.7.12"
  }
 },
 "nbformat": 4,
 "nbformat_minor": 2
}
